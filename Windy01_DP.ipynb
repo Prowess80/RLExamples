{
 "cells": [
  {
   "cell_type": "code",
   "execution_count": 1,
   "metadata": {},
   "outputs": [],
   "source": [
    "# Ennvironment setup\n",
    "# Variables\n",
    "#   sizeX, sizeY : size of the gridworld\n",
    "# \n",
    "# Functions\n",
    "#   stateNum : input(x,y)= coordinate, output= state number\n",
    "#   stateNumToCoord : input(st)= state number, output[x,y]= coordinate\n",
    "#   keepInside : input(x,y)= coordinate, output[x,y]= coordinate\n",
    "#   moveAgent : input(x,y,a)= coordinate, action, output[x,y]=coordinate\n",
    "#   wind : input(x,y)=coordinate, output[x,y]=coordinate\n",
    "\n",
    "sizeX = 6\n",
    "sizeY = 5\n",
    "def stateNum(x, y):\n",
    "    return(x + (y-1) *sizeX -1)\n",
    "\n",
    "dicAction = {'up':1, 'left':2, 'down':3, 'right':4}\n",
    "\n",
    "def stateNumToCoord(st):\n",
    "    return([st % sizeX +1, 1+st // sizeX])  # //, %  division and the remainder\n",
    "\n",
    "def keepInside(x, y):    \n",
    "    if (x<1): \n",
    "        x=1\n",
    "    elif (x>sizeX):\n",
    "        x=sizeX\n",
    "        \n",
    "    if (y<1):\n",
    "        y=1\n",
    "    elif (y>sizeY):\n",
    "        y=sizeY\n",
    "        \n",
    "    return([x,y])\n",
    "\n",
    "goalState = stateNum(4,3)\n",
    "\n",
    "\n",
    "def moveAgent(x, y, a):\n",
    "   # if (stateNum(x, y) == goalState):\n",
    "   #     return([x,y])\n",
    "    if a in dicAction:\n",
    "        a = dicAction[a]\n",
    "    \n",
    "    if (a == 1):\n",
    "        y = y - 1\n",
    "    if (a == 2):\n",
    "        x = x - 1\n",
    "    if (a == 3):\n",
    "        y = y + 1\n",
    "    if (a == 4):\n",
    "        x = x + 1\n",
    "    \n",
    "    return(keepInside(x,y))\n",
    "\n",
    "def wind(x,y):    \n",
    "    if (x in [2,5]):\n",
    "        y=y-1\n",
    "    if (x in [3,4]):\n",
    "        y=y-2\n",
    "    return(keepInside(x,y))\n",
    "\n",
    "\n"
   ]
  },
  {
   "cell_type": "code",
   "execution_count": 2,
   "metadata": {},
   "outputs": [
    {
     "name": "stdout",
     "output_type": "stream",
     "text": [
      "1 1 0 [1, 1]\n",
      "2 1 1 [2, 1]\n",
      "3 1 2 [3, 1]\n",
      "4 1 3 [4, 1]\n",
      "5 1 4 [5, 1]\n",
      "6 1 5 [6, 1]\n",
      "1 2 6 [1, 2]\n",
      "2 2 7 [2, 2]\n",
      "3 2 8 [3, 2]\n",
      "4 2 9 [4, 2]\n",
      "5 2 10 [5, 2]\n",
      "6 2 11 [6, 2]\n",
      "1 3 12 [1, 3]\n",
      "2 3 13 [2, 3]\n",
      "3 3 14 [3, 3]\n",
      "4 3 15 [4, 3]\n",
      "5 3 16 [5, 3]\n",
      "6 3 17 [6, 3]\n",
      "1 4 18 [1, 4]\n",
      "2 4 19 [2, 4]\n",
      "3 4 20 [3, 4]\n",
      "4 4 21 [4, 4]\n",
      "5 4 22 [5, 4]\n",
      "6 4 23 [6, 4]\n",
      "1 5 24 [1, 5]\n",
      "2 5 25 [2, 5]\n",
      "3 5 26 [3, 5]\n",
      "4 5 27 [4, 5]\n",
      "5 5 28 [5, 5]\n",
      "6 5 29 [6, 5]\n"
     ]
    }
   ],
   "source": [
    "import numpy as np\n",
    "\n",
    "# Check to see if the functions work fine\n",
    "for y in np.arange(1,sizeY+1):    \n",
    "    for x in np.arange(1,sizeX+1):\n",
    "        print(x,y, stateNum(x,y), stateNumToCoord(stateNum(x,y)))"
   ]
  },
  {
   "cell_type": "code",
   "execution_count": 3,
   "metadata": {},
   "outputs": [
    {
     "name": "stdout",
     "output_type": "stream",
     "text": [
      "0\n",
      "[2, 1]\n",
      "[3, 2]\n"
     ]
    }
   ],
   "source": [
    "# Test\n",
    "print(stateNum(1,1))\n",
    "print(moveAgent(3,1,'left'))\n",
    "print(wind(3,4))"
   ]
  },
  {
   "cell_type": "code",
   "execution_count": 4,
   "metadata": {},
   "outputs": [
    {
     "name": "stdout",
     "output_type": "stream",
     "text": [
      "4 5\n",
      "4 3\n",
      "4 2\n",
      "[ 9 14 21 16]\n"
     ]
    }
   ],
   "source": [
    "import numpy as np\n",
    "\n",
    "istate = 1\n",
    "\n",
    "# Environment : Transition = wind + action\n",
    "# sNext[sCurrent, action] : next state when the current state is sCurrent and action is taken.\n",
    "sNext = np.zeros((sizeX*sizeY, 4), dtype=np.int)\n",
    "\n",
    "for istate in range(sizeX*sizeY):\n",
    "    for iaction in [1,2,3,4]:\n",
    "        x, y=stateNumToCoord(istate)\n",
    "        x, y=wind(x,y)\n",
    "        x, y=moveAgent(x, y, iaction)        \n",
    "        sNext[istate, iaction-1] = int(stateNum(x,y))\n",
    "sNext[goalState,:]=goalState\n",
    "\n",
    "# Testing\n",
    "istate=27;\n",
    "iaction = 1\n",
    "x, y=stateNumToCoord(istate)\n",
    "print(x,y)\n",
    "x, y=wind(x,y)\n",
    "print(x,y)\n",
    "x, y=moveAgent(x, y, iaction)        \n",
    "print(x,y)\n",
    "sNext[istate, iaction-1] = int(stateNum(x,y))\n",
    "print(sNext[27,:])\n"
   ]
  },
  {
   "cell_type": "code",
   "execution_count": 5,
   "metadata": {},
   "outputs": [
    {
     "name": "stdout",
     "output_type": "stream",
     "text": [
      "[4, 3]\n",
      "15\n"
     ]
    },
    {
     "data": {
      "text/plain": [
       "array([ 9, 14, 21, 16])"
      ]
     },
     "execution_count": 5,
     "metadata": {},
     "output_type": "execute_result"
    }
   ],
   "source": [
    "# goal state\n",
    "print(stateNumToCoord(goalState))\n",
    "print(goalState)\n",
    "sNext[27,:]"
   ]
  },
  {
   "cell_type": "code",
   "execution_count": 6,
   "metadata": {},
   "outputs": [],
   "source": [
    "# calculating P(s' | s, a) -> Tr[s,a,s']\n",
    "nstate = sizeX*sizeY\n",
    "naction = 4\n",
    "Tr = np.zeros((nstate, naction, nstate), dtype=np.int)\n",
    "\n",
    "for istate in range(nstate):\n",
    "    for iaction in [1,2,3,4]:        \n",
    "        for jstate in range(nstate):\n",
    "            if jstate == sNext[istate, iaction-1]:\n",
    "                Tr[istate,iaction-1, jstate] = 1\n",
    "            else:\n",
    "                Tr[istate,iaction-1, jstate] = 0"
   ]
  },
  {
   "cell_type": "code",
   "execution_count": 7,
   "metadata": {},
   "outputs": [],
   "source": [
    "# arrR[s, a, s'] = R(s,a,s')\n",
    "arrR = np.zeros((nstate, naction, nstate), dtype=np.float)\n",
    "arrR[:,:,:] = -1\n",
    "arrR[goalState, :, :] = 0"
   ]
  },
  {
   "cell_type": "code",
   "execution_count": 8,
   "metadata": {},
   "outputs": [],
   "source": [
    "# ER [s,a'] = Expected rewards of R(s,a,s') over s'\n",
    "ER = np.zeros((nstate, naction), dtype=np.float)\n",
    "for istate in range(nstate):\n",
    "    for iaction in [1,2,3,4]:\n",
    "        ER[istate, iaction-1] = sum(arrR[istate, iaction-1, :] * Tr[istate, iaction-1, :])"
   ]
  },
  {
   "cell_type": "code",
   "execution_count": 9,
   "metadata": {},
   "outputs": [],
   "source": [
    "# pi : policy\n",
    "# pi0 : random policy with pi(a|s)=1/4\n",
    "pi0 = np.zeros((nstate, naction), dtype=np.float)\n",
    "pi0[:, :] = 1/4"
   ]
  },
  {
   "cell_type": "code",
   "execution_count": 10,
   "metadata": {},
   "outputs": [],
   "source": [
    "# matT[(s,a), (s',a')] = P((s',a')|(s,a)) given policy pi0\n",
    "matT = np.zeros((nstate*naction, nstate*naction), dtype=np.float)\n",
    "for istate in range(nstate):\n",
    "    for iaction in range(naction):\n",
    "        for jstate in range(nstate):\n",
    "            for jaction in range(naction):\n",
    "                matT[istate*naction +iaction, jstate*naction+jaction] = Tr[istate, iaction, jstate] * pi0[jstate, jaction]"
   ]
  },
  {
   "cell_type": "code",
   "execution_count": 11,
   "metadata": {},
   "outputs": [
    {
     "data": {
      "text/plain": [
       "0.25"
      ]
     },
     "execution_count": 11,
     "metadata": {},
     "output_type": "execute_result"
    }
   ],
   "source": [
    "# test : given (1,1), 1:'up', what's the probablity of (1,1),2:'left'\n",
    "matT[stateNum(1,1)*naction + 0, stateNum(1,1)*naction + 1]"
   ]
  },
  {
   "cell_type": "code",
   "execution_count": 12,
   "metadata": {},
   "outputs": [],
   "source": [
    "I=np.diag(np.ones(nstate*naction))  # identity matrix I"
   ]
  },
  {
   "cell_type": "code",
   "execution_count": 13,
   "metadata": {},
   "outputs": [
    {
     "name": "stdout",
     "output_type": "stream",
     "text": [
      "[[ 17.08340901  16.08340901  16.08340901 ...,   0.5196498    0.5196498\n",
      "    0.5196498 ]\n",
      " [ 16.08340901  17.08340901  16.08340901 ...,   0.5196498    0.5196498\n",
      "    0.5196498 ]\n",
      " [ 15.67715001  15.67715001  16.67715001 ...,   0.5196498    0.5196498\n",
      "    0.5196498 ]\n",
      " ..., \n",
      " [ 12.17396425  12.17396425  12.17396425 ...,   1.54749855   0.54749855\n",
      "    0.54749855]\n",
      " [ 11.71464056  11.71464056  11.71464056 ...,   1.12179734   2.12179734\n",
      "    1.12179734]\n",
      " [ 11.71464056  11.71464056  11.71464056 ...,   1.12179734   1.12179734\n",
      "    2.12179734]]\n"
     ]
    },
    {
     "data": {
      "text/plain": [
       "array([ -6.10522607e+02,  -6.10522607e+02,  -6.10522607e+02,\n",
       "        -6.08963138e+02,  -6.08963138e+02,  -6.10522607e+02,\n",
       "        -6.08963138e+02,  -6.05837956e+02,  -6.05837956e+02,\n",
       "        -6.08963138e+02,  -6.05837956e+02,  -6.01134547e+02,\n",
       "        -6.01134547e+02,  -6.05837956e+02,  -6.01134547e+02,\n",
       "        -5.94834080e+02,  -5.94834080e+02,  -6.01134547e+02,\n",
       "        -5.94834080e+02,  -5.86911326e+02,  -5.86911326e+02,\n",
       "        -5.94834080e+02,  -5.77334564e+02,  -5.86911326e+02,\n",
       "        -6.10522607e+02,  -6.10522607e+02,  -6.10522607e+02,\n",
       "        -6.08963138e+02,  -6.08963138e+02,  -6.10522607e+02,\n",
       "        -6.08963138e+02,  -6.05837956e+02,  -6.05837956e+02,\n",
       "        -6.08963138e+02,  -6.05837956e+02,  -6.01134547e+02,\n",
       "        -6.01134547e+02,  -6.05837956e+02,  -6.01134547e+02,\n",
       "        -5.94834080e+02,  -5.94834080e+02,  -6.01134547e+02,\n",
       "        -5.94834080e+02,  -5.86911326e+02,  -5.86911326e+02,\n",
       "        -5.94834080e+02,  -5.48565932e+02,  -5.77334564e+02,\n",
       "        -6.10522607e+02,  -6.10522607e+02,  -6.10522607e+02,\n",
       "        -6.08963138e+02,  -6.08963138e+02,  -6.10522607e+02,\n",
       "        -6.08963138e+02,  -6.05837956e+02,  -6.05837956e+02,\n",
       "        -6.08963138e+02,  -6.05837956e+02,  -6.01134547e+02,\n",
       "        -1.98558475e-14,  -1.98558475e-14,  -1.98558475e-14,\n",
       "        -1.99353504e-14,  -5.94834080e+02,  -6.01134547e+02,\n",
       "        -5.91646081e+02,  -5.77334564e+02,  -5.77334564e+02,\n",
       "        -5.91646081e+02,  -4.74909608e+02,  -5.48565932e+02,\n",
       "        -6.10522607e+02,  -6.10522607e+02,  -6.10522607e+02,\n",
       "        -6.08963138e+02,  -6.08963138e+02,  -6.10522607e+02,\n",
       "        -6.08963138e+02,  -6.05837956e+02,  -6.05837956e+02,\n",
       "        -6.08963138e+02,  -6.05837956e+02,  -6.01134547e+02,\n",
       "        -6.01134547e+02,  -6.05837956e+02,  -1.00000000e+00,\n",
       "        -5.94834080e+02,  -5.94834080e+02,  -1.00000000e+00,\n",
       "        -3.82291107e+02,  -5.48565932e+02,  -5.48565932e+02,\n",
       "        -3.82291107e+02,  -4.91769322e+02,  -4.74909608e+02,\n",
       "        -6.10522607e+02,  -6.10522607e+02,  -6.10522607e+02,\n",
       "        -6.08963138e+02,  -6.08963138e+02,  -6.10522607e+02,\n",
       "        -6.08963138e+02,  -6.05837956e+02,  -6.05837956e+02,\n",
       "        -6.08963138e+02,  -6.05837956e+02,  -1.00000000e+00,\n",
       "        -6.01134547e+02,  -6.05837956e+02,  -4.51250944e+02,\n",
       "        -5.91646081e+02,  -5.91646081e+02,  -4.51250944e+02,\n",
       "        -5.06594077e+02,  -4.74909608e+02,  -4.74909608e+02,\n",
       "        -5.06594077e+02,  -4.91769322e+02,  -4.91769322e+02])"
      ]
     },
     "execution_count": 13,
     "metadata": {},
     "output_type": "execute_result"
    }
   ],
   "source": [
    "gamma=0.999\n",
    "inv=np.linalg.inv(I- gamma*matT)   # can't solve the equation with gamma=1\n",
    "print(inv)\n",
    "vER = np.ndarray.flatten(ER)\n",
    "np.dot(inv, vER)"
   ]
  },
  {
   "cell_type": "code",
   "execution_count": 14,
   "metadata": {},
   "outputs": [
    {
     "name": "stdout",
     "output_type": "stream",
     "text": [
      "[[-743.3071585 ]\n",
      " [-743.3071585 ]\n",
      " [-743.3071585 ]\n",
      " [-741.39205735]\n",
      " [-741.39205735]\n",
      " [-743.3071585 ]\n",
      " [-741.39205735]\n",
      " [-737.55624645]\n",
      " [-737.55624645]\n",
      " [-741.39205735]\n",
      " [-737.55624645]\n",
      " [-731.78852371]\n",
      " [-731.78852371]\n",
      " [-737.55624645]\n",
      " [-731.78852371]\n",
      " [-724.07212369]\n",
      " [-724.07212369]\n",
      " [-731.78852371]\n",
      " [-724.07212369]\n",
      " [-714.38476266]\n",
      " [-714.38476266]\n",
      " [-724.07212369]\n",
      " [-702.69869856]\n",
      " [-714.38476266]\n",
      " [-743.3071585 ]\n",
      " [-743.3071585 ]\n",
      " [-743.3071585 ]\n",
      " [-741.39205735]\n",
      " [-741.39205735]\n",
      " [-743.3071585 ]\n",
      " [-741.39205735]\n",
      " [-737.55624645]\n",
      " [-737.55624645]\n",
      " [-741.39205735]\n",
      " [-737.55624645]\n",
      " [-731.78852371]\n",
      " [-731.78852371]\n",
      " [-737.55624645]\n",
      " [-731.78852371]\n",
      " [-724.07212369]\n",
      " [-724.07212369]\n",
      " [-731.78852371]\n",
      " [-724.07212369]\n",
      " [-714.38476266]\n",
      " [-714.38476266]\n",
      " [-724.07212369]\n",
      " [-667.60738056]\n",
      " [-702.69869856]\n",
      " [-743.3071585 ]\n",
      " [-743.3071585 ]\n",
      " [-743.3071585 ]\n",
      " [-741.39205735]\n",
      " [-741.39205735]\n",
      " [-743.3071585 ]\n",
      " [-741.39205735]\n",
      " [-737.55624645]\n",
      " [-737.55624645]\n",
      " [-741.39205735]\n",
      " [-737.55624645]\n",
      " [-731.78852371]\n",
      " [   0.        ]\n",
      " [   0.        ]\n",
      " [   0.        ]\n",
      " [   0.        ]\n",
      " [-724.07212369]\n",
      " [-731.78852371]\n",
      " [-720.18045294]\n",
      " [-702.69869856]\n",
      " [-702.69869856]\n",
      " [-720.18045294]\n",
      " [-577.81187329]\n",
      " [-667.60738056]\n",
      " [-743.3071585 ]\n",
      " [-743.3071585 ]\n",
      " [-743.3071585 ]\n",
      " [-741.39205735]\n",
      " [-741.39205735]\n",
      " [-743.3071585 ]\n",
      " [-741.39205735]\n",
      " [-737.55624645]\n",
      " [-737.55624645]\n",
      " [-741.39205735]\n",
      " [-737.55624645]\n",
      " [-731.78852371]\n",
      " [-731.78852371]\n",
      " [-737.55624645]\n",
      " [  -1.        ]\n",
      " [-724.07212369]\n",
      " [-724.07212369]\n",
      " [  -1.        ]\n",
      " [-465.12634358]\n",
      " [-667.60738056]\n",
      " [-667.60738056]\n",
      " [-465.12634358]\n",
      " [-598.31735924]\n",
      " [-577.81187329]\n",
      " [-743.3071585 ]\n",
      " [-743.3071585 ]\n",
      " [-743.3071585 ]\n",
      " [-741.39205735]\n",
      " [-741.39205735]\n",
      " [-743.3071585 ]\n",
      " [-741.39205735]\n",
      " [-737.55624645]\n",
      " [-737.55624645]\n",
      " [-741.39205735]\n",
      " [-737.55624645]\n",
      " [  -1.        ]\n",
      " [-731.78852371]\n",
      " [-737.55624645]\n",
      " [-549.21968674]\n",
      " [-720.18045294]\n",
      " [-720.18045294]\n",
      " [-549.21968674]\n",
      " [-616.49553331]\n",
      " [-577.81187329]\n",
      " [-577.81187329]\n",
      " [-616.49553331]\n",
      " [-598.31735924]\n",
      " [-598.31735924]]\n"
     ]
    }
   ],
   "source": [
    "# vectorized Expected reward(s,a) \n",
    "vER = np.ndarray.flatten(ER)\n",
    "vER = vER.reshape((nstate*naction,1))\n",
    "\n",
    "# vectorized Q(s,a)\n",
    "vQ = np.zeros((nstate*naction,1))\n",
    "#print(vQ.shape)\n",
    "for _ in range(1000):\n",
    "    vQ = vER + np.dot(matT, vQ)\n",
    "\n",
    "print(vQ)"
   ]
  },
  {
   "cell_type": "code",
   "execution_count": 15,
   "metadata": {},
   "outputs": [
    {
     "data": {
      "image/png": "[encoded data removed]",
      "text/plain": [
       "<matplotlib.figure.Figure at 0x2cf883790f0>"
      ]
     },
     "metadata": {},
     "output_type": "display_data"
    },
    {
     "data": {
      "image/png": "[encoded data removed]",
      "text/plain": [
       "<matplotlib.figure.Figure at 0x2cf8af294e0>"
      ]
     },
     "metadata": {},
     "output_type": "display_data"
    }
   ],
   "source": [
    "import matplotlib.pyplot as plt\n",
    "import matplotlib.cm as cm\n",
    "\n",
    "matQ =  np.reshape(vQ , (nstate, naction))\n",
    "V = np.zeros(nstate)\n",
    "for istate in range(nstate):\n",
    "    for iaction in range(naction):\n",
    "        V[istate] = sum(matQ[istate,:]*pi0[istate,:])\n",
    "\n",
    "plt.imshow(matQ, cmap=cm.Greys_r)\n",
    "plt.show()\n",
    "\n",
    "matV = np.reshape(V, (sizeY, sizeX))\n",
    "plt.imshow(matV, cmap=cm.Greys_r)\n",
    "plt.show()"
   ]
  },
  {
   "cell_type": "code",
   "execution_count": 16,
   "metadata": {},
   "outputs": [],
   "source": [
    "pi1 = np.zeros((nstate, naction), dtype=np.float)\n",
    "\n",
    "matQ = np.reshape(vQ , (nstate, naction))\n",
    "\n",
    "\n",
    "for istate in range(nstate):\n",
    "    nQ = sum(matQ[istate,:]==max(matQ[istate,:]))\n",
    "    pi1[istate,matQ[istate,:]==max(matQ[istate,:])] = 1/nQ\n",
    "    \n",
    "matT = np.zeros((nstate*naction, nstate*naction), dtype=np.float)\n",
    "for istate in range(nstate):\n",
    "    for iaction in range(naction):\n",
    "        for jstate in range(nstate):\n",
    "            for jaction in range(naction):\n",
    "                matT[istate*naction +iaction, jstate*naction+jaction] = Tr[istate, iaction, jstate] * pi1[jstate, jaction]"
   ]
  },
  {
   "cell_type": "code",
   "execution_count": 17,
   "metadata": {},
   "outputs": [],
   "source": [
    "vER = np.ndarray.flatten(ER)\n",
    "vER = vER.reshape((nstate*naction,1))\n",
    "\n",
    "vQ = np.zeros((nstate*naction,1))\n",
    "for _ in range(1000):\n",
    "    vQ = vER + np.dot(matT, vQ)\n",
    "\n",
    "#print(vQ)"
   ]
  },
  {
   "cell_type": "code",
   "execution_count": 18,
   "metadata": {},
   "outputs": [
    {
     "data": {
      "image/png": "[encoded data removed]",
      "text/plain": [
       "<matplotlib.figure.Figure at 0x2cf8afb4860>"
      ]
     },
     "metadata": {},
     "output_type": "display_data"
    },
    {
     "data": {
      "image/png": "[encoded data removed]",
      "text/plain": [
       "<matplotlib.figure.Figure at 0x2cf8b05eb38>"
      ]
     },
     "metadata": {},
     "output_type": "display_data"
    }
   ],
   "source": [
    "matQ =  np.reshape(vQ , (nstate, naction))\n",
    "V = np.zeros(nstate)\n",
    "for istate in range(nstate):\n",
    "    for iaction in range(naction):\n",
    "        V[istate] = sum(matQ[istate,:]*pi1[istate,:])\n",
    "\n",
    "plt.imshow(matQ, cmap=cm.Greys_r)\n",
    "plt.show()\n",
    "\n",
    "matV = np.reshape(V, (sizeY, sizeX))\n",
    "plt.imshow(matV, cmap=cm.Greys_r)\n",
    "plt.show()"
   ]
  },
  {
   "cell_type": "code",
   "execution_count": 19,
   "metadata": {},
   "outputs": [
    {
     "name": "stdout",
     "output_type": "stream",
     "text": [
      "[[-11.]\n",
      " [-11.]\n",
      " [-11.]\n",
      " [-10.]\n",
      " [-10.]\n",
      " [-11.]\n",
      " [-10.]\n",
      " [ -9.]\n",
      " [ -9.]\n",
      " [-10.]\n",
      " [ -9.]\n",
      " [ -8.]\n",
      " [ -8.]\n",
      " [ -9.]\n",
      " [ -8.]\n",
      " [ -7.]\n",
      " [ -7.]\n",
      " [ -8.]\n",
      " [ -7.]\n",
      " [ -6.]\n",
      " [ -6.]\n",
      " [ -7.]\n",
      " [ -5.]\n",
      " [ -6.]\n",
      " [-11.]\n",
      " [-11.]\n",
      " [-11.]\n",
      " [-10.]\n",
      " [-10.]\n",
      " [-11.]\n",
      " [-10.]\n",
      " [ -9.]\n",
      " [ -9.]\n",
      " [-10.]\n",
      " [ -9.]\n",
      " [ -8.]\n",
      " [ -8.]\n",
      " [ -9.]\n",
      " [ -8.]\n",
      " [ -7.]\n",
      " [ -7.]\n",
      " [ -8.]\n",
      " [ -7.]\n",
      " [ -6.]\n",
      " [ -6.]\n",
      " [ -7.]\n",
      " [ -4.]\n",
      " [ -5.]\n",
      " [-11.]\n",
      " [-11.]\n",
      " [-11.]\n",
      " [-10.]\n",
      " [-10.]\n",
      " [-11.]\n",
      " [-10.]\n",
      " [ -9.]\n",
      " [ -9.]\n",
      " [-10.]\n",
      " [ -9.]\n",
      " [ -8.]\n",
      " [  0.]\n",
      " [  0.]\n",
      " [  0.]\n",
      " [  0.]\n",
      " [ -7.]\n",
      " [ -8.]\n",
      " [ -6.]\n",
      " [ -5.]\n",
      " [ -5.]\n",
      " [ -6.]\n",
      " [ -3.]\n",
      " [ -4.]\n",
      " [-11.]\n",
      " [-11.]\n",
      " [-11.]\n",
      " [-10.]\n",
      " [-10.]\n",
      " [-11.]\n",
      " [-10.]\n",
      " [ -9.]\n",
      " [ -9.]\n",
      " [-10.]\n",
      " [ -9.]\n",
      " [ -8.]\n",
      " [ -8.]\n",
      " [ -9.]\n",
      " [ -1.]\n",
      " [ -7.]\n",
      " [ -7.]\n",
      " [ -1.]\n",
      " [ -2.]\n",
      " [ -4.]\n",
      " [ -4.]\n",
      " [ -2.]\n",
      " [ -4.]\n",
      " [ -3.]\n",
      " [-11.]\n",
      " [-11.]\n",
      " [-11.]\n",
      " [-10.]\n",
      " [-10.]\n",
      " [-11.]\n",
      " [-10.]\n",
      " [ -9.]\n",
      " [ -9.]\n",
      " [-10.]\n",
      " [ -9.]\n",
      " [ -1.]\n",
      " [ -8.]\n",
      " [ -9.]\n",
      " [ -2.]\n",
      " [ -6.]\n",
      " [ -6.]\n",
      " [ -2.]\n",
      " [ -3.]\n",
      " [ -3.]\n",
      " [ -3.]\n",
      " [ -3.]\n",
      " [ -4.]\n",
      " [ -4.]]\n"
     ]
    }
   ],
   "source": [
    "print(vQ)"
   ]
  },
  {
   "cell_type": "code",
   "execution_count": null,
   "metadata": {},
   "outputs": [],
   "source": []
  },
  {
   "cell_type": "code",
   "execution_count": null,
   "metadata": {},
   "outputs": [],
   "source": []
  }
 ],
 "metadata": {
  "kernelspec": {
   "display_name": "Python 3",
   "language": "python",
   "name": "python3"
  },
  "language_info": {
   "codemirror_mode": {
    "name": "ipython",
    "version": 3
   },
   "file_extension": ".py",
   "mimetype": "text/x-python",
   "name": "python",
   "nbconvert_exporter": "python",
   "pygments_lexer": "ipython3",
   "version": "3.6.3"
  }
 },
 "nbformat": 4,
 "nbformat_minor": 2
}
