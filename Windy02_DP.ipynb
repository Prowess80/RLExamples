{
 "cells": [
  {
   "cell_type": "code",
   "execution_count": 55,
   "metadata": {},
   "outputs": [
    {
     "data": {
      "text/plain": [
       "-2"
      ]
     },
     "execution_count": 55,
     "metadata": {},
     "output_type": "execute_result"
    }
   ],
   "source": [
    "import numpy as np\n",
    "np.random.choice([0,-1,-2])"
   ]
  },
  {
   "cell_type": "code",
   "execution_count": 56,
   "metadata": {},
   "outputs": [],
   "source": [
    "# Ennvironment setup\n",
    "# Variables\n",
    "#   sizeX, sizeY : size of the gridworld\n",
    "# \n",
    "# Functions\n",
    "#   stateNum : input(x,y)= coordinate, output= state number\n",
    "#   stateNumToCoord : input(st)= state number, output[x,y]= coordinate\n",
    "#   keepInside : input(x,y)= coordinate, output[x,y]= coordinate\n",
    "#   moveAgent : input(x,y,a)= coordinate, action, output[x,y]=coordinate\n",
    "#   wind : input(x,y)=coordinate, output[x,y]=coordinate\n",
    "\n",
    "sizeX = 6\n",
    "sizeY = 5\n",
    "nstate = sizeX*sizeY\n",
    "naction =4\n",
    "def stateNum(x, y):\n",
    "    return(int(x + (y-1) *sizeX -1))\n",
    "\n",
    "dicAction = {'up':1, 'left':2, 'down':3, 'right':4}\n",
    "\n",
    "def stateNumToCoord(st):\n",
    "    return([st % sizeX +1, 1+st // sizeX])  # //, %  division and the remainder\n",
    "\n",
    "def keepInside(x, y):    \n",
    "    if (x<1): \n",
    "        x=1\n",
    "    elif (x>sizeX):\n",
    "        x=sizeX\n",
    "        \n",
    "    if (y<1):\n",
    "        y=1\n",
    "    elif (y>sizeY):\n",
    "        y=sizeY\n",
    "        \n",
    "    return([x,y])\n",
    "\n",
    "goalState = stateNum(4,3)\n",
    "\n",
    "\n",
    "\n",
    "def moveAgent(x, y, a):\n",
    "   # if (stateNum(x, y) == goalState):\n",
    "   #     return([x,y])\n",
    "    if a in dicAction:\n",
    "        a = dicAction[a]\n",
    "    \n",
    "    if (a == 1):\n",
    "        y = y - 1\n",
    "    if (a == 2):\n",
    "        x = x - 1\n",
    "    if (a == 3):\n",
    "        y = y + 1\n",
    "    if (a == 4):\n",
    "        x = x + 1\n",
    "    \n",
    "    return(keepInside(x,y))\n",
    "\n",
    "def wind(x,y):    \n",
    "    if (x in [2,5]):\n",
    "        \n",
    "        y=y-np.random.choice([0,1,2])\n",
    "    if (x in [3,4]):\n",
    "        y=y-np.random.choice([1,2,3])\n",
    "    return(keepInside(x,y))\n",
    "\n",
    "def prMoveAgent(prIstate, a):\n",
    "   # if (stateNum(x, y) == goalState):\n",
    "   #     return([x,y])\n",
    "    cumPr = np.zeros(nstate)\n",
    "    cumPr[goalState] = prIstate[goalState]\n",
    "    for istate in range(nstate):\n",
    "        if (istate != goalState and prIstate[istate] > 0):\n",
    "            x, y = stateNumToCoord(istate)\n",
    "            pr = np.zeros(nstate)\n",
    "               \n",
    "            if a in dicAction:\n",
    "                a = dicAction[a]\n",
    "    \n",
    "            if (a == 1):\n",
    "                y = y - 1\n",
    "            if (a == 2):\n",
    "                x = x - 1\n",
    "            if (a == 3):\n",
    "                y = y + 1\n",
    "            if (a == 4):\n",
    "                x = x + 1\n",
    "            x, y = keepInside(x,y)\n",
    "            pr[stateNum(x,y)]=1\n",
    "            cumPr = cumPr + prIstate[istate]*pr\n",
    "            \n",
    "    return(cumPr)\n",
    "    \n",
    "\n",
    "def prWind(prIstate):\n",
    "    cumPr = np.zeros(nstate)    \n",
    "    cumPr[goalState] = prIstate[goalState]\n",
    "    for istate in range(nstate):\n",
    "        if (istate != goalState and prIstate[istate] > 0):\n",
    "            x, y = stateNumToCoord(istate)                \n",
    "            pr = np.zeros(nstate)   \n",
    "            if (x in [2,5]):\n",
    "                x = np.ones(3)*x\n",
    "                y = np.array([y, y-1, y-2])     \n",
    "            elif (x in [3,4]):\n",
    "                x = np.ones(3)*x\n",
    "                y = np.array([y-1, y-2, y-3])     \n",
    "            else:\n",
    "                x = np.array([x])\n",
    "                y = np.array([y])\n",
    "            prob = 1/x.shape[0]            \n",
    "            for i in range(x.shape[0]):                \n",
    "                xTemp, yTemp = keepInside(x[i], y[i])\n",
    "                pr[stateNum(xTemp, yTemp)]=pr[stateNum(xTemp, yTemp)]+prob\n",
    "            \n",
    "            cumPr = cumPr + prIstate[istate]*pr   \n",
    "    \n",
    "    \n",
    "    \n",
    "    return(cumPr)"
   ]
  },
  {
   "cell_type": "code",
   "execution_count": 57,
   "metadata": {},
   "outputs": [
    {
     "name": "stdout",
     "output_type": "stream",
     "text": [
      "0\n"
     ]
    }
   ],
   "source": [
    "for i in range(5):\n",
    "    if i==1:\n",
    "        break\n",
    "    print(i)"
   ]
  },
  {
   "cell_type": "code",
   "execution_count": 58,
   "metadata": {},
   "outputs": [
    {
     "data": {
      "text/plain": [
       "30"
      ]
     },
     "execution_count": 58,
     "metadata": {},
     "output_type": "execute_result"
    }
   ],
   "source": [
    "x = np.zeros(nstate)\n",
    "x.shape[0]"
   ]
  },
  {
   "cell_type": "code",
   "execution_count": 59,
   "metadata": {},
   "outputs": [
    {
     "data": {
      "text/plain": [
       "array([ 0.,  0.,  0.,  0.,  0.,  1.,  0.,  0.,  0.,  0.,  0.,  0.,  0.,\n",
       "        0.,  0.,  0.,  0.,  0.,  0.,  0.,  0.,  0.,  0.,  0.,  0.,  0.,\n",
       "        0.,  0.,  0.,  0.])"
      ]
     },
     "execution_count": 59,
     "metadata": {},
     "output_type": "execute_result"
    }
   ],
   "source": [
    "prWind([0,0,0,0,1,0,0,0,0,0,0,0,0,0,0,0,0,0,0,0,0,0,0,0,0,0,0,0,0,0])\n",
    "prMoveAgent([0,0,0,0,1,0,0,0,0,0,0,0,0,0,0,0,0,0,0,0,0,0,0,0,0,0,0,0,0,0], 4)"
   ]
  },
  {
   "cell_type": "code",
   "execution_count": 60,
   "metadata": {},
   "outputs": [],
   "source": [
    "prIstate = [0,0,0,0,1,0,0,0,0,0,0,0,0,0,0,0,0,0,0,0,0,0,0,0,0,0,0,0,0,0]\n",
    "\n",
    "cumPr = np.zeros(nstate)\n",
    "istate =4\n",
    "if (prIstate[istate] > 0):\n",
    "    x, y = stateNumToCoord(istate)                \n",
    "    pr = np.zeros(nstate)   \n",
    "    if (x in [2,5]):\n",
    "        x = np.ones(3)*x\n",
    "        y = np.array([y, y-1, y-2])     \n",
    "    elif (x in [3,4]):\n",
    "        x = np.ones(3)*x\n",
    "        y = np.array([y-1, y-2, y-3])  \n",
    "    else:\n",
    "        x = np.array([x])\n",
    "        y = np.array([y])\n",
    "    prob = 1/x.shape[0]\n",
    "    for i in range(x.shape[0]):                \n",
    "        xTemp, yTemp = keepInside(x[i], y[i])\n",
    "        pr[stateNum(xTemp, yTemp)]=pr[stateNum(xTemp,yTemp)]+prob\n",
    "     \n",
    "    cumPr = cumPr + prIstate[istate]*pr  "
   ]
  },
  {
   "cell_type": "code",
   "execution_count": 61,
   "metadata": {},
   "outputs": [
    {
     "data": {
      "text/plain": [
       "array([ 0.,  0.,  0.,  0.,  1.,  0.,  0.,  0.,  0.,  0.,  0.,  0.,  0.,\n",
       "        0.,  0.,  0.,  0.,  0.,  0.,  0.,  0.,  0.,  0.,  0.,  0.,  0.,\n",
       "        0.,  0.,  0.,  0.])"
      ]
     },
     "execution_count": 61,
     "metadata": {},
     "output_type": "execute_result"
    }
   ],
   "source": [
    "cumPr"
   ]
  },
  {
   "cell_type": "markdown",
   "metadata": {},
   "source": [
    "cumPr"
   ]
  },
  {
   "cell_type": "code",
   "execution_count": 62,
   "metadata": {},
   "outputs": [
    {
     "data": {
      "text/plain": [
       "30"
      ]
     },
     "execution_count": 62,
     "metadata": {},
     "output_type": "execute_result"
    }
   ],
   "source": [
    "np.shape([0,0,0,0,1,0,0,0,0,0,0,0,0,0,0,0,0,0,0,0,0,0,0,0,0,0,0,0])\n",
    "nstate\n"
   ]
  },
  {
   "cell_type": "code",
   "execution_count": 63,
   "metadata": {},
   "outputs": [
    {
     "name": "stdout",
     "output_type": "stream",
     "text": [
      "0\n",
      "[2, 1]\n",
      "[3, 1]\n"
     ]
    }
   ],
   "source": [
    "# Test\n",
    "print(stateNum(1,1))\n",
    "print(moveAgent(3,1,'left'))\n",
    "print(wind(3,4))"
   ]
  },
  {
   "cell_type": "code",
   "execution_count": 64,
   "metadata": {},
   "outputs": [
    {
     "name": "stdout",
     "output_type": "stream",
     "text": [
      "[4, 3]\n",
      "15\n"
     ]
    },
    {
     "data": {
      "text/plain": [
       "[4, 5]"
      ]
     },
     "execution_count": 64,
     "metadata": {},
     "output_type": "execute_result"
    }
   ],
   "source": [
    "# goal state\n",
    "print(stateNumToCoord(goalState))\n",
    "print(goalState)\n",
    "sNext[27,:]\n",
    "stateNumToCoord(27)"
   ]
  },
  {
   "cell_type": "code",
   "execution_count": 65,
   "metadata": {},
   "outputs": [],
   "source": [
    "# calculating P(s' | s, a) -> Tr[s,a,s']\n",
    "nstate = sizeX*sizeY\n",
    "naction = 4\n",
    "Tr = np.zeros((nstate, naction, nstate), dtype=np.float) # float!\n",
    "\n",
    "for istate in range(nstate):\n",
    "    for iaction in [1,2,3,4]:     \n",
    "        pr = np.zeros(nstate)\n",
    "        pr[istate] = 1\n",
    "        pr = prWind(pr)\n",
    "        pr = prMoveAgent(pr, iaction)  \n",
    "        Tr[istate,iaction-1,:] = pr"
   ]
  },
  {
   "cell_type": "code",
   "execution_count": 66,
   "metadata": {},
   "outputs": [
    {
     "name": "stdout",
     "output_type": "stream",
     "text": [
      "[ 0.          0.66666667  0.          0.          0.          0.          0.\n",
      "  0.33333333  0.          0.          0.          0.          0.          0.\n",
      "  0.          0.          0.          0.          0.          0.          0.\n",
      "  0.          0.          0.          0.          0.          0.          0.\n",
      "  0.          0.        ]\n",
      "[ 0.          0.66666667  0.          0.          0.          0.          0.\n",
      "  0.33333333  0.          0.          0.          0.          0.          0.\n",
      "  0.          0.          0.          0.          0.          0.          0.\n",
      "  0.          0.          0.          0.          0.          0.          0.\n",
      "  0.          0.        ]\n",
      "[ 0.          0.66666667  0.          0.          0.          0.          0.\n",
      "  0.33333333  0.          0.          0.          0.          0.          0.\n",
      "  0.          0.          0.          0.          0.          0.          0.\n",
      "  0.          0.          0.          0.          0.          0.          0.\n",
      "  0.          0.        ]\n"
     ]
    },
    {
     "data": {
      "text/plain": [
       "14"
      ]
     },
     "execution_count": 66,
     "metadata": {},
     "output_type": "execute_result"
    }
   ],
   "source": [
    "print(Tr[stateNum(3,3),1,:])\n",
    "\n",
    "pr = np.zeros(nstate)\n",
    "pr[14]=1\n",
    "prWind(pr)\n",
    "print(prMoveAgent(prWind(pr), 2))\n",
    "        \n",
    "print(Tr[14, 1,:])   \n",
    "stateNum(3,3)"
   ]
  },
  {
   "cell_type": "code",
   "execution_count": 67,
   "metadata": {},
   "outputs": [],
   "source": [
    "# arrR[s, a, s'] = R(s,a,s')\n",
    "arrR = np.zeros((nstate, naction, nstate), dtype=np.float)\n",
    "arrR[:,:,:] = -1\n",
    "arrR[goalState, :, :] = 0"
   ]
  },
  {
   "cell_type": "code",
   "execution_count": 68,
   "metadata": {},
   "outputs": [],
   "source": [
    "# ER [s,a'] = Expected rewards of R(s,a,s') over s'\n",
    "ER = np.zeros((nstate, naction), dtype=np.float)\n",
    "for istate in range(nstate):\n",
    "    for iaction in [1,2,3,4]:\n",
    "        ER[istate, iaction-1] = sum(arrR[istate, iaction-1, :] * Tr[istate, iaction-1, :])"
   ]
  },
  {
   "cell_type": "code",
   "execution_count": 69,
   "metadata": {},
   "outputs": [],
   "source": [
    "# pi : policy\n",
    "# pi0 : random policy with pi(a|s)=1/4\n",
    "pi0 = np.zeros((nstate, naction), dtype=np.float)\n",
    "pi0[:, :] = 1/4"
   ]
  },
  {
   "cell_type": "code",
   "execution_count": 70,
   "metadata": {},
   "outputs": [],
   "source": [
    "# matT[(s,a), (s',a')] = P((s',a')|(s,a)) given policy pi0\n",
    "matT = np.zeros((nstate*naction, nstate*naction), dtype=np.float)\n",
    "for istate in range(nstate):\n",
    "    for iaction in range(naction):\n",
    "        for jstate in range(nstate):\n",
    "            for jaction in range(naction):\n",
    "                matT[istate*naction +iaction, jstate*naction+jaction] = Tr[istate, iaction, jstate] * pi0[jstate, jaction]"
   ]
  },
  {
   "cell_type": "code",
   "execution_count": 71,
   "metadata": {},
   "outputs": [
    {
     "data": {
      "text/plain": [
       "0.25"
      ]
     },
     "execution_count": 71,
     "metadata": {},
     "output_type": "execute_result"
    }
   ],
   "source": [
    "# test : given (1,1), 1:'up', what's the probablity of (1,1),2:'left'\n",
    "matT[stateNum(1,1)*naction + 0, stateNum(1,1)*naction + 1]"
   ]
  },
  {
   "cell_type": "code",
   "execution_count": 72,
   "metadata": {},
   "outputs": [],
   "source": [
    "I= np.diag(np.ones(nstate*naction))  # identity matrix I"
   ]
  },
  {
   "cell_type": "code",
   "execution_count": 73,
   "metadata": {},
   "outputs": [
    {
     "data": {
      "image/png": "[encoded data removed]",
      "text/plain": [
       "<matplotlib.figure.Figure at 0x1f6d0278908>"
      ]
     },
     "metadata": {},
     "output_type": "display_data"
    },
    {
     "data": {
      "image/png": "[encoded data removed]",
      "text/plain": [
       "<matplotlib.figure.Figure at 0x1f6cffbdb00>"
      ]
     },
     "metadata": {},
     "output_type": "display_data"
    }
   ],
   "source": [
    "gamma=0.99\n",
    "inv=np.linalg.inv(I- gamma* matT)   # can't solve the equation with gamma=1\n",
    "vER = np.ndarray.flatten(ER)\n",
    "vQ = np.dot(inv, vER)\n",
    "\n",
    "import matplotlib.pyplot as plt\n",
    "import matplotlib.cm as cm\n",
    "\n",
    "matQ =  np.reshape(vQ , (nstate, naction))\n",
    "V = np.zeros(nstate)\n",
    "for istate in range(nstate):\n",
    "    for iaction in range(naction):\n",
    "        V[istate] = sum(matQ[istate,:]*pi0[istate,:])\n",
    "\n",
    "plt.imshow(matQ, cmap=cm.Greys_r)\n",
    "plt.show()\n",
    "\n",
    "matV = np.reshape(V, (sizeY, sizeX))\n",
    "plt.imshow(matV, cmap=cm.Greys_r)\n",
    "plt.colorbar()\n",
    "plt.show()"
   ]
  },
  {
   "cell_type": "code",
   "execution_count": 74,
   "metadata": {},
   "outputs": [
    {
     "name": "stdout",
     "output_type": "stream",
     "text": [
      "[ 0.    0.    0.    0.    0.    0.    0.    0.    0.    0.    0.    0.    0.\n",
      "  0.    0.    0.    0.25  0.25  0.25  0.25  0.    0.    0.    0.    0.    0.\n",
      "  0.    0.    0.    0.    0.    0.    0.    0.    0.    0.    0.    0.    0.\n",
      "  0.    0.    0.    0.    0.    0.    0.    0.    0.    0.    0.    0.    0.\n",
      "  0.    0.    0.    0.    0.    0.    0.    0.    0.    0.    0.    0.    0.\n",
      "  0.    0.    0.    0.    0.    0.    0.    0.    0.    0.    0.    0.    0.\n",
      "  0.    0.    0.    0.    0.    0.    0.    0.    0.    0.    0.    0.    0.\n",
      "  0.    0.    0.    0.    0.    0.    0.    0.    0.    0.    0.    0.    0.\n",
      "  0.    0.    0.    0.    0.    0.    0.    0.    0.    0.    0.    0.    0.\n",
      "  0.    0.    0.  ]\n"
     ]
    },
    {
     "data": {
      "image/png": "[encoded data removed]",
      "text/plain": [
       "<matplotlib.figure.Figure at 0x1f6d02bfb00>"
      ]
     },
     "metadata": {},
     "output_type": "display_data"
    },
    {
     "data": {
      "image/png": "[encoded data removed]",
      "text/plain": [
       "<matplotlib.figure.Figure at 0x1f6d01d9e10>"
      ]
     },
     "metadata": {},
     "output_type": "display_data"
    }
   ],
   "source": [
    "# vectorized Expected reward(s,a) \n",
    "vER = np.ndarray.flatten(ER)\n",
    "vER = vER.reshape((nstate*naction,1))\n",
    "\n",
    "# vectorized Q(s,a)\n",
    "matQ = np.zeros((nstate,naction)) # you can set matQ as random numbers\n",
    "\n",
    "vQ = np.zeros((nstate*naction,1))\n",
    "#print(vQ.shape)\n",
    "for _ in range(100):\n",
    "    for istate in range(nstate):\n",
    "        for iaction in range(naction):\n",
    "            tempQ = 0\n",
    "            for jstate in range(nstate):                \n",
    "                tempQ = tempQ + Tr[istate, iaction, jstate]*max(matQ[jstate,:])\n",
    "            matQ[istate,iaction] = ER[istate,iaction] + tempQ\n",
    "            \n",
    "    \n",
    "\n",
    "#print(vQ)\n",
    "print(matT[stateNum(4,3),:])\n",
    "\n",
    "for istate in range(nstate):\n",
    "    for iaction in range(naction):\n",
    "        V[istate] = sum(matQ[istate,:]*pi0[istate,:])\n",
    "\n",
    "plt.imshow(matQ, cmap=cm.Greys_r)\n",
    "plt.show()\n",
    "\n",
    "matV = np.reshape(V, (sizeY, sizeX))\n",
    "plt.imshow(matV, cmap=cm.Greys_r)\n",
    "plt.colorbar()\n",
    "plt.show()"
   ]
  },
  {
   "cell_type": "code",
   "execution_count": 75,
   "metadata": {},
   "outputs": [
    {
     "name": "stdout",
     "output_type": "stream",
     "text": [
      "[ 0.    0.    0.    0.    0.    0.    0.    0.    0.    0.    0.    0.    0.\n",
      "  0.    0.    0.    0.25  0.25  0.25  0.25  0.    0.    0.    0.    0.    0.\n",
      "  0.    0.    0.    0.    0.    0.    0.    0.    0.    0.    0.    0.    0.\n",
      "  0.    0.    0.    0.    0.    0.    0.    0.    0.    0.    0.    0.    0.\n",
      "  0.    0.    0.    0.    0.    0.    0.    0.    0.    0.    0.    0.    0.\n",
      "  0.    0.    0.    0.    0.    0.    0.    0.    0.    0.    0.    0.    0.\n",
      "  0.    0.    0.    0.    0.    0.    0.    0.    0.    0.    0.    0.    0.\n",
      "  0.    0.    0.    0.    0.    0.    0.    0.    0.    0.    0.    0.    0.\n",
      "  0.    0.    0.    0.    0.    0.    0.    0.    0.    0.    0.    0.    0.\n",
      "  0.    0.    0.  ]\n"
     ]
    }
   ],
   "source": [
    "# vectorized Expected reward(s,a) \n",
    "vER = np.ndarray.flatten(ER)\n",
    "vER = vER.reshape((nstate*naction,1))\n",
    "\n",
    "# vectorized Q(s,a)\n",
    "vQ = np.zeros((nstate*naction,1))\n",
    "#print(vQ.shape)\n",
    "for _ in range(100000):\n",
    "    vQ = vER + np.dot(matT, vQ)\n",
    "\n",
    "#print(vQ)\n",
    "print(matT[stateNum(4,3),:])\n",
    "\n"
   ]
  },
  {
   "cell_type": "code",
   "execution_count": 76,
   "metadata": {},
   "outputs": [
    {
     "data": {
      "image/png": "[encoded data removed]",
      "text/plain": [
       "<matplotlib.figure.Figure at 0x1f6d0278780>"
      ]
     },
     "metadata": {},
     "output_type": "display_data"
    },
    {
     "data": {
      "image/png": "[encoded data removed]",
      "text/plain": [
       "<matplotlib.figure.Figure at 0x1f6d019f7b8>"
      ]
     },
     "metadata": {},
     "output_type": "display_data"
    }
   ],
   "source": [
    "import matplotlib.pyplot as plt\n",
    "import matplotlib.cm as cm\n",
    "\n",
    "matQ =  np.reshape(vQ , (nstate, naction))\n",
    "V = np.zeros(nstate)\n",
    "for istate in range(nstate):\n",
    "    for iaction in range(naction):\n",
    "        V[istate] = sum(matQ[istate,:]*pi0[istate,:])\n",
    "\n",
    "plt.imshow(matQ, cmap=cm.Greys_r)\n",
    "plt.show()\n",
    "\n",
    "matV = np.reshape(V, (sizeY, sizeX))\n",
    "plt.imshow(matV, cmap=cm.Greys_r)\n",
    "plt.colorbar()\n",
    "plt.show()"
   ]
  },
  {
   "cell_type": "code",
   "execution_count": 77,
   "metadata": {},
   "outputs": [
    {
     "name": "stdout",
     "output_type": "stream",
     "text": [
      "[[-642.10754835]\n",
      " [-642.10754835]\n",
      " [-641.36081911]\n",
      " [-638.85427759]\n",
      " [-638.85427759]\n",
      " [-642.10754835]\n",
      " [-638.71691393]\n",
      " [-631.73837049]\n",
      " [-631.73837049]\n",
      " [-638.85427759]\n",
      " [-631.73837049]\n",
      " [-620.62246339]\n",
      " [-620.62246339]\n",
      " [-631.73837049]\n",
      " [-620.62246339]\n",
      " [-605.5065563 ]\n",
      " [-605.5065563 ]\n",
      " [-620.62246339]\n",
      " [-598.58778337]\n",
      " [-593.30942213]\n",
      " [-593.30942213]\n",
      " [-605.5065563 ]\n",
      " [-577.11228796]\n",
      " [-593.30942213]\n",
      " [-642.10754835]\n",
      " [-641.36081911]\n",
      " [-639.25799506]\n",
      " [-638.71691393]\n",
      " [-638.85427759]\n",
      " [-641.85863861]\n",
      " [-638.41636903]\n",
      " [-631.73837049]\n",
      " [-631.73837049]\n",
      " [-638.85427759]\n",
      " [-631.73837049]\n",
      " [-620.62246339]\n",
      " [-620.62246339]\n",
      " [-631.73837049]\n",
      " [-620.62246339]\n",
      " [-605.5065563 ]\n",
      " [-605.5065563 ]\n",
      " [-620.62246339]\n",
      " [-576.31173637]\n",
      " [-587.9103774 ]\n",
      " [-593.30942213]\n",
      " [-598.58778337]\n",
      " [-535.43965837]\n",
      " [-577.11228796]\n",
      " [-641.36081911]\n",
      " [-639.25799506]\n",
      " [-634.59788683]\n",
      " [-637.81527923]\n",
      " [-638.80848971]\n",
      " [-640.90878751]\n",
      " [-635.80963174]\n",
      " [-631.73420796]\n",
      " [-631.73837049]\n",
      " [-638.80848971]\n",
      " [-631.73420796]\n",
      " [-620.62246339]\n",
      " [   0.        ]\n",
      " [   0.        ]\n",
      " [   0.        ]\n",
      " [   0.        ]\n",
      " [-603.20029865]\n",
      " [-414.08164226]\n",
      " [-537.13617248]\n",
      " [-568.62045615]\n",
      " [-577.11228796]\n",
      " [-531.75964239]\n",
      " [-493.44704478]\n",
      " [-535.43965837]\n",
      " [-639.25799506]\n",
      " [-634.59788683]\n",
      " [-629.63896338]\n",
      " [-630.89670206]\n",
      " [-638.46215692]\n",
      " [-638.405567  ]\n",
      " [-629.79734041]\n",
      " [-612.92174393]\n",
      " [-631.73837049]\n",
      " [-638.46215692]\n",
      " [-612.92174393]\n",
      " [-414.08164226]\n",
      " [-414.08164226]\n",
      " [-421.492247  ]\n",
      " [-207.54082113]\n",
      " [-401.69811322]\n",
      " [-578.61799402]\n",
      " [-327.94188977]\n",
      " [-478.35148595]\n",
      " [-535.33299704]\n",
      " [-535.43965837]\n",
      " [-481.06109169]\n",
      " [-459.84038427]\n",
      " [-493.44704478]\n",
      " [-634.59788683]\n",
      " [-629.63896338]\n",
      " [-629.63896338]\n",
      " [-620.68003993]\n",
      " [-635.80963174]\n",
      " [-634.49828176]\n",
      " [-624.08559397]\n",
      " [-584.32665224]\n",
      " [-631.73420796]\n",
      " [-635.80963174]\n",
      " [-584.32665224]\n",
      " [-327.94188977]\n",
      " [-207.54082113]\n",
      " [-402.67978296]\n",
      " [ -89.31244507]\n",
      " [-360.21629169]\n",
      " [-537.13617248]\n",
      " [-209.71351371]\n",
      " [-441.84284641]\n",
      " [-496.24236248]\n",
      " [-493.44704478]\n",
      " [-422.23372377]\n",
      " [-459.84038427]\n",
      " [-459.84038427]]\n"
     ]
    }
   ],
   "source": [
    "print(vQ)"
   ]
  },
  {
   "cell_type": "code",
   "execution_count": 78,
   "metadata": {},
   "outputs": [],
   "source": [
    "matQ = np.reshape(vQ , (nstate, naction))\n",
    "\n"
   ]
  },
  {
   "cell_type": "code",
   "execution_count": 79,
   "metadata": {},
   "outputs": [],
   "source": [
    "pi1 = np.zeros((nstate, naction), dtype=np.float)\n",
    "\n",
    "matQ = np.reshape(vQ , (nstate, naction))\n",
    "\n",
    "\n",
    "for istate in range(nstate):\n",
    "    nQ = sum(matQ[istate,:]==max(matQ[istate,:]))\n",
    "    pi1[istate,matQ[istate,:]==max(matQ[istate,:])] = 1/nQ\n",
    "    \n",
    "matT = np.zeros((nstate*naction, nstate*naction), dtype=np.float)\n",
    "for istate in range(nstate):\n",
    "    for iaction in range(naction):\n",
    "        for jstate in range(nstate):\n",
    "            for jaction in range(naction):\n",
    "                matT[istate*naction +iaction, jstate*naction+jaction] = Tr[istate, iaction, jstate] * pi1[jstate, jaction]"
   ]
  },
  {
   "cell_type": "code",
   "execution_count": 80,
   "metadata": {},
   "outputs": [],
   "source": [
    "vER = np.ndarray.flatten(ER)\n",
    "vER = vER.reshape((nstate*naction,1))\n",
    "\n",
    "vQ = np.zeros((nstate*naction,1))\n",
    "for _ in range(1000):\n",
    "    vQ = vER + np.dot(matT, vQ)\n",
    "\n",
    "#print(vQ)"
   ]
  },
  {
   "cell_type": "code",
   "execution_count": 81,
   "metadata": {},
   "outputs": [
    {
     "data": {
      "image/png": "[encoded data removed]",
      "text/plain": [
       "<matplotlib.figure.Figure at 0x1f6d047b668>"
      ]
     },
     "metadata": {},
     "output_type": "display_data"
    },
    {
     "data": {
      "image/png": "[encoded data removed]",
      "text/plain": [
       "<matplotlib.figure.Figure at 0x1f6d04a5b00>"
      ]
     },
     "metadata": {},
     "output_type": "display_data"
    }
   ],
   "source": [
    "matQ =  np.reshape(vQ , (nstate, naction))\n",
    "V = np.zeros(nstate)\n",
    "for istate in range(nstate):\n",
    "    for iaction in range(naction):\n",
    "        V[istate] = sum(matQ[istate,:]*pi1[istate,:])\n",
    "\n",
    "plt.imshow(matQ, cmap=cm.Greys_r)\n",
    "plt.show()\n",
    "\n",
    "matV = np.reshape(V, (sizeY, sizeX))\n",
    "plt.imshow(matV, cmap=cm.Greys_r)\n",
    "plt.colorbar()\n",
    "plt.show()"
   ]
  },
  {
   "cell_type": "code",
   "execution_count": 82,
   "metadata": {},
   "outputs": [
    {
     "name": "stdout",
     "output_type": "stream",
     "text": [
      "[[-13.9375     -13.9375     -13.9375     -12.9375    ]\n",
      " [-12.9375     -13.9375     -12.9375     -11.9375    ]\n",
      " [-11.9375     -12.9375     -11.9375     -10.9375    ]\n",
      " [-10.9375     -11.9375     -10.9375      -9.9375    ]\n",
      " [ -9.9375     -10.9375     -11.625       -8.9375    ]\n",
      " [ -8.9375      -9.9375      -7.9375      -8.9375    ]\n",
      " [-13.9375     -13.9375     -13.10416667 -12.9375    ]\n",
      " [-12.9375     -13.9375     -12.9375     -11.9375    ]\n",
      " [-11.9375     -12.9375     -11.9375     -10.9375    ]\n",
      " [-10.9375     -11.9375     -10.9375      -9.9375    ]\n",
      " [ -9.9375     -10.9375     -10.625       -8.60416667]\n",
      " [ -8.9375     -11.625       -6.9375      -7.9375    ]\n",
      " [-13.9375     -13.10416667 -12.10416667 -12.9375    ]\n",
      " [-12.9375     -13.65972222 -12.56944444 -11.9375    ]\n",
      " [-11.9375     -12.9375     -11.9375     -10.9375    ]\n",
      " [  0.           0.           0.           0.        ]\n",
      " [-10.5         -7.625       -9.          -7.9375    ]\n",
      " [ -7.9375      -8.625       -5.9375      -6.9375    ]\n",
      " [-13.10416667 -12.10416667 -11.10416667 -11.83333333]\n",
      " [-12.9375     -13.04861111 -11.625      -10.83333333]\n",
      " [-11.9375     -12.9375     -10.83333333  -7.625     ]\n",
      " [ -7.625       -8.29166667  -4.3125      -7.52083333]\n",
      " [-10.0625      -5.75        -6.4375      -6.9375    ]\n",
      " [ -6.9375      -6.75        -4.9375      -5.9375    ]\n",
      " [-12.10416667 -11.10416667 -11.10416667 -10.10416667]\n",
      " [-12.56944444 -12.10416667 -10.68055556  -9.10416667]\n",
      " [-11.9375     -12.56944444  -9.10416667  -5.75      ]\n",
      " [ -4.3125      -7.1875      -1.5         -6.45833333]\n",
      " [ -9.          -2.9375      -4.875       -5.9375    ]\n",
      " [ -5.9375      -3.9375      -4.9375      -4.9375    ]]\n"
     ]
    }
   ],
   "source": [
    "print(matQ)"
   ]
  },
  {
   "cell_type": "code",
   "execution_count": 84,
   "metadata": {},
   "outputs": [
    {
     "data": {
      "text/plain": [
       "array([[-13.9375    , -13.9375    , -13.9375    , -12.9375    ],\n",
       "       [-12.9375    , -13.9375    , -12.9375    , -11.9375    ],\n",
       "       [-11.9375    , -12.9375    , -11.9375    , -10.9375    ],\n",
       "       [-10.9375    , -11.9375    , -10.9375    ,  -9.9375    ],\n",
       "       [ -9.9375    , -10.9375    , -11.625     ,  -8.9375    ],\n",
       "       [ -8.9375    ,  -9.9375    ,  -7.9375    ,  -8.9375    ],\n",
       "       [-13.9375    , -13.9375    , -13.10416667, -12.9375    ],\n",
       "       [-12.9375    , -13.9375    , -12.9375    , -11.9375    ],\n",
       "       [-11.9375    , -12.9375    , -11.9375    , -10.9375    ],\n",
       "       [-10.9375    , -11.9375    , -10.9375    ,  -9.9375    ],\n",
       "       [ -9.9375    , -10.9375    , -10.625     ,  -8.60416667],\n",
       "       [ -8.9375    , -11.625     ,  -6.9375    ,  -7.9375    ],\n",
       "       [-13.9375    , -13.10416667, -12.10416667, -12.9375    ],\n",
       "       [-12.9375    , -13.65972222, -12.56944444, -11.9375    ],\n",
       "       [-11.9375    , -12.9375    , -11.9375    , -10.9375    ],\n",
       "       [  0.        ,   0.        ,   0.        ,   0.        ],\n",
       "       [-10.5       ,  -7.625     ,  -9.        ,  -7.9375    ],\n",
       "       [ -7.9375    ,  -8.625     ,  -5.9375    ,  -6.9375    ],\n",
       "       [-13.10416667, -12.10416667, -11.10416667, -11.83333333],\n",
       "       [-12.9375    , -13.04861111, -11.625     , -10.83333333],\n",
       "       [-11.9375    , -12.9375    , -10.83333333,  -7.625     ],\n",
       "       [ -7.625     ,  -8.29166667,  -4.3125    ,  -7.52083333],\n",
       "       [-10.0625    ,  -5.75      ,  -6.4375    ,  -6.9375    ],\n",
       "       [ -6.9375    ,  -6.75      ,  -4.9375    ,  -5.9375    ],\n",
       "       [-12.10416667, -11.10416667, -11.10416667, -10.10416667],\n",
       "       [-12.56944444, -12.10416667, -10.68055556,  -9.10416667],\n",
       "       [-11.9375    , -12.56944444,  -9.10416667,  -5.75      ],\n",
       "       [ -4.3125    ,  -7.1875    ,  -1.5       ,  -6.45833333],\n",
       "       [ -9.        ,  -2.9375    ,  -4.875     ,  -5.9375    ],\n",
       "       [ -5.9375    ,  -3.9375    ,  -4.9375    ,  -4.9375    ]])"
      ]
     },
     "execution_count": 84,
     "metadata": {},
     "output_type": "execute_result"
    }
   ],
   "source": [
    "np.save('Qsol', matQ)\n",
    "np.load('Qsol.npy')"
   ]
  },
  {
   "cell_type": "code",
   "execution_count": 85,
   "metadata": {},
   "outputs": [
    {
     "name": "stdout",
     "output_type": "stream",
     "text": [
      "[[ 0.    0.    0.    1.  ]\n",
      " [ 0.    0.    0.    1.  ]\n",
      " [ 0.    0.    0.    1.  ]\n",
      " [ 0.    0.    0.    1.  ]\n",
      " [ 0.    0.    0.    1.  ]\n",
      " [ 0.    0.    1.    0.  ]\n",
      " [ 0.    0.    0.    1.  ]\n",
      " [ 0.    0.    0.    1.  ]\n",
      " [ 0.    0.    0.    1.  ]\n",
      " [ 0.    0.    0.    1.  ]\n",
      " [ 0.    0.    1.    0.  ]\n",
      " [ 0.    0.    1.    0.  ]\n",
      " [ 0.    0.    1.    0.  ]\n",
      " [ 0.    0.    0.    1.  ]\n",
      " [ 0.    0.    0.    1.  ]\n",
      " [ 0.25  0.25  0.25  0.25]\n",
      " [ 0.    1.    0.    0.  ]\n",
      " [ 0.    0.    1.    0.  ]\n",
      " [ 0.    0.    1.    0.  ]\n",
      " [ 0.    0.    0.    1.  ]\n",
      " [ 0.    0.    0.    1.  ]\n",
      " [ 0.    0.    1.    0.  ]\n",
      " [ 0.    1.    0.    0.  ]\n",
      " [ 0.    0.    1.    0.  ]\n",
      " [ 0.    0.    0.    1.  ]\n",
      " [ 0.    0.    0.    1.  ]\n",
      " [ 0.    0.    0.    1.  ]\n",
      " [ 0.    0.    1.    0.  ]\n",
      " [ 0.    1.    0.    0.  ]\n",
      " [ 0.    1.    0.    0.  ]]\n"
     ]
    }
   ],
   "source": [
    "print(pi1)"
   ]
  },
  {
   "cell_type": "code",
   "execution_count": 86,
   "metadata": {},
   "outputs": [
    {
     "name": "stdout",
     "output_type": "stream",
     "text": [
      "( 1 1 ) right\n",
      "( 2 1 ) right\n",
      "( 3 1 ) right\n",
      "( 4 1 ) right\n",
      "( 5 1 ) right\n",
      "( 6 1 ) down\n",
      "( 1 2 ) right\n",
      "( 2 2 ) right\n",
      "( 3 2 ) right\n",
      "( 4 2 ) right\n",
      "( 5 2 ) down\n",
      "( 6 2 ) down\n",
      "( 1 3 ) down\n",
      "( 2 3 ) right\n",
      "( 3 3 ) right\n",
      "( 4 3 ) up\n",
      "( 4 3 ) left\n",
      "( 4 3 ) down\n",
      "( 4 3 ) right\n",
      "( 5 3 ) left\n",
      "( 6 3 ) down\n",
      "( 1 4 ) down\n",
      "( 2 4 ) right\n",
      "( 3 4 ) right\n",
      "( 4 4 ) down\n",
      "( 5 4 ) left\n",
      "( 6 4 ) down\n",
      "( 1 5 ) right\n",
      "( 2 5 ) right\n",
      "( 3 5 ) right\n",
      "( 4 5 ) down\n",
      "( 5 5 ) left\n",
      "( 6 5 ) left\n"
     ]
    }
   ],
   "source": [
    "#show me the policy\n",
    "action = ['up','left','down','right']\n",
    "for istate in range(nstate):    \n",
    "    for iaction in range(naction):\n",
    "        if (pi1[istate,iaction]>0):\n",
    "            x, y = stateNumToCoord(istate)\n",
    "            print(\"(\",x,y,\")\", action[iaction])"
   ]
  },
  {
   "cell_type": "code",
   "execution_count": null,
   "metadata": {
    "collapsed": true
   },
   "outputs": [],
   "source": []
  }
 ],
 "metadata": {
  "kernelspec": {
   "display_name": "Python 3",
   "language": "python",
   "name": "python3"
  },
  "language_info": {
   "codemirror_mode": {
    "name": "ipython",
    "version": 3
   },
   "file_extension": ".py",
   "mimetype": "text/x-python",
   "name": "python",
   "nbconvert_exporter": "python",
   "pygments_lexer": "ipython3",
   "version": "3.6.3"
  }
 },
 "nbformat": 4,
 "nbformat_minor": 2
}
